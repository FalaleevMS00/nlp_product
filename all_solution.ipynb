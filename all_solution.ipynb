{
 "cells": [
  {
   "cell_type": "code",
   "execution_count": 111,
   "metadata": {
    "colab": {
     "base_uri": "https://localhost:8080/"
    },
    "id": "U9anoNDWs_Nc",
    "outputId": "225ce2c2-c78c-4064-b003-efc3e55f2d48"
   },
   "outputs": [
    {
     "name": "stdout",
     "output_type": "stream",
     "text": [
      "[nltk_data] Downloading package stopwords to /root/nltk_data...\n",
      "[nltk_data]   Package stopwords is already up-to-date!\n",
      "Requirement already satisfied: pymorphy2 in /usr/local/lib/python3.7/dist-packages (0.9.1)\n",
      "Requirement already satisfied: pymorphy2-dicts-ru<3.0,>=2.4 in /usr/local/lib/python3.7/dist-packages (from pymorphy2) (2.4.417127.4579844)\n",
      "Requirement already satisfied: dawg-python>=0.7.1 in /usr/local/lib/python3.7/dist-packages (from pymorphy2) (0.7.2)\n",
      "Requirement already satisfied: docopt>=0.6 in /usr/local/lib/python3.7/dist-packages (from pymorphy2) (0.6.2)\n"
     ]
    }
   ],
   "source": [
    "#загрузка и установка библиотек\n",
    "import pandas as pd\n",
    "import nltk\n",
    "from nltk.corpus import stopwords\n",
    "from pymystem3 import Mystem\n",
    "from string import punctuation\n",
    "nltk.download('stopwords')\n",
    "!pip install pymorphy2\n",
    "import re\n",
    "import pymorphy2\n",
    "from collections import Counter \n",
    "import numpy as np\n",
    "from sklearn.naive_bayes import MultinomialNB\n",
    "from sklearn.pipeline import Pipeline\n",
    "from sklearn.neighbors import KNeighborsClassifier\n",
    "from sklearn.feature_extraction.text import TfidfTransformer\n",
    "from sklearn.feature_extraction.text import CountVectorizer\n",
    "from sklearn.feature_extraction.text import TfidfVectorizer\n",
    "from sklearn.model_selection import train_test_split\n",
    "from sklearn.metrics import classification_report\n",
    "from sklearn.metrics import f1_score\n",
    "from sklearn.metrics import accuracy_score\n",
    "import matplotlib.pyplot as plt\n",
    "from sklearn.linear_model import SGDClassifier"
   ]
  },
  {
   "cell_type": "code",
   "execution_count": 3,
   "metadata": {
    "id": "ebdjywG8tBMA"
   },
   "outputs": [],
   "source": [
    "#загрузка данных\n",
    "train = pd.read_parquet('train.parquet')\n",
    "test = pd.read_parquet('test.parquet')"
   ]
  },
  {
   "cell_type": "code",
   "execution_count": null,
   "metadata": {
    "colab": {
     "base_uri": "https://localhost:8080/"
    },
    "id": "SVz5BQVOtBPZ",
    "outputId": "187c80ee-79b4-4da6-a12e-4003cf4de07f"
   },
   "outputs": [
    {
     "name": "stdout",
     "output_type": "stream",
     "text": [
      "<class 'pandas.core.frame.DataFrame'>\n",
      "RangeIndex: 283452 entries, 0 to 283451\n",
      "Data columns (total 7 columns):\n",
      " #   Column                      Non-Null Count   Dtype  \n",
      "---  ------                      --------------   -----  \n",
      " 0   id                          283452 non-null  int64  \n",
      " 1   title                       283452 non-null  object \n",
      " 2   short_description           133130 non-null  object \n",
      " 3   name_value_characteristics  50360 non-null   object \n",
      " 4   rating                      283452 non-null  float64\n",
      " 5   feedback_quantity           283452 non-null  int64  \n",
      " 6   category_id                 283452 non-null  int64  \n",
      "dtypes: float64(1), int64(3), object(3)\n",
      "memory usage: 15.1+ MB\n"
     ]
    }
   ],
   "source": [
    "train.info()"
   ]
  },
  {
   "cell_type": "code",
   "execution_count": null,
   "metadata": {
    "colab": {
     "base_uri": "https://localhost:8080/",
     "height": 250
    },
    "id": "0afmTOywtsX4",
    "outputId": "961c03a8-a05f-48e1-9327-d69696528a6d"
   },
   "outputs": [
    {
     "data": {
      "text/html": [
       "\n",
       "  <div id=\"df-c2f26acb-8dcb-40a6-b9c8-0dbdb33265b7\">\n",
       "    <div class=\"colab-df-container\">\n",
       "      <div>\n",
       "<style scoped>\n",
       "    .dataframe tbody tr th:only-of-type {\n",
       "        vertical-align: middle;\n",
       "    }\n",
       "\n",
       "    .dataframe tbody tr th {\n",
       "        vertical-align: top;\n",
       "    }\n",
       "\n",
       "    .dataframe thead th {\n",
       "        text-align: right;\n",
       "    }\n",
       "</style>\n",
       "<table border=\"1\" class=\"dataframe\">\n",
       "  <thead>\n",
       "    <tr style=\"text-align: right;\">\n",
       "      <th></th>\n",
       "      <th>id</th>\n",
       "      <th>title</th>\n",
       "      <th>short_description</th>\n",
       "      <th>name_value_characteristics</th>\n",
       "      <th>rating</th>\n",
       "      <th>feedback_quantity</th>\n",
       "      <th>category_id</th>\n",
       "    </tr>\n",
       "  </thead>\n",
       "  <tbody>\n",
       "    <tr>\n",
       "      <th>0</th>\n",
       "      <td>1267423</td>\n",
       "      <td>Muhle Manikure Песочные колпачки для педикюра ...</td>\n",
       "      <td>Muhle Manikure Колпачок песочный шлифовальный ...</td>\n",
       "      <td>None</td>\n",
       "      <td>0.000000</td>\n",
       "      <td>0</td>\n",
       "      <td>2693</td>\n",
       "    </tr>\n",
       "    <tr>\n",
       "      <th>1</th>\n",
       "      <td>128833</td>\n",
       "      <td>Sony Xperia L1 Защитное стекло 2,5D</td>\n",
       "      <td>None</td>\n",
       "      <td>None</td>\n",
       "      <td>4.666667</td>\n",
       "      <td>9</td>\n",
       "      <td>13408</td>\n",
       "    </tr>\n",
       "    <tr>\n",
       "      <th>2</th>\n",
       "      <td>569924</td>\n",
       "      <td>Конверт для денег Прекрасная роза, 16,5 х 8 см</td>\n",
       "      <td>Конверт для денег «Прекрасная роза», 16,5 × 8 см</td>\n",
       "      <td>None</td>\n",
       "      <td>5.000000</td>\n",
       "      <td>6</td>\n",
       "      <td>11790</td>\n",
       "    </tr>\n",
       "    <tr>\n",
       "      <th>3</th>\n",
       "      <td>1264824</td>\n",
       "      <td>Серьги</td>\n",
       "      <td>None</td>\n",
       "      <td>None</td>\n",
       "      <td>0.000000</td>\n",
       "      <td>0</td>\n",
       "      <td>14076</td>\n",
       "    </tr>\n",
       "    <tr>\n",
       "      <th>4</th>\n",
       "      <td>1339052</td>\n",
       "      <td>Наклейки на унитаз для туалета на крышку бачок...</td>\n",
       "      <td>Водостойкая, интересная наклейка на унитаз раз...</td>\n",
       "      <td>None</td>\n",
       "      <td>0.000000</td>\n",
       "      <td>0</td>\n",
       "      <td>12401</td>\n",
       "    </tr>\n",
       "  </tbody>\n",
       "</table>\n",
       "</div>\n",
       "      <button class=\"colab-df-convert\" onclick=\"convertToInteractive('df-c2f26acb-8dcb-40a6-b9c8-0dbdb33265b7')\"\n",
       "              title=\"Convert this dataframe to an interactive table.\"\n",
       "              style=\"display:none;\">\n",
       "        \n",
       "  <svg xmlns=\"http://www.w3.org/2000/svg\" height=\"24px\"viewBox=\"0 0 24 24\"\n",
       "       width=\"24px\">\n",
       "    <path d=\"M0 0h24v24H0V0z\" fill=\"none\"/>\n",
       "    <path d=\"M18.56 5.44l.94 2.06.94-2.06 2.06-.94-2.06-.94-.94-2.06-.94 2.06-2.06.94zm-11 1L8.5 8.5l.94-2.06 2.06-.94-2.06-.94L8.5 2.5l-.94 2.06-2.06.94zm10 10l.94 2.06.94-2.06 2.06-.94-2.06-.94-.94-2.06-.94 2.06-2.06.94z\"/><path d=\"M17.41 7.96l-1.37-1.37c-.4-.4-.92-.59-1.43-.59-.52 0-1.04.2-1.43.59L10.3 9.45l-7.72 7.72c-.78.78-.78 2.05 0 2.83L4 21.41c.39.39.9.59 1.41.59.51 0 1.02-.2 1.41-.59l7.78-7.78 2.81-2.81c.8-.78.8-2.07 0-2.86zM5.41 20L4 18.59l7.72-7.72 1.47 1.35L5.41 20z\"/>\n",
       "  </svg>\n",
       "      </button>\n",
       "      \n",
       "  <style>\n",
       "    .colab-df-container {\n",
       "      display:flex;\n",
       "      flex-wrap:wrap;\n",
       "      gap: 12px;\n",
       "    }\n",
       "\n",
       "    .colab-df-convert {\n",
       "      background-color: #E8F0FE;\n",
       "      border: none;\n",
       "      border-radius: 50%;\n",
       "      cursor: pointer;\n",
       "      display: none;\n",
       "      fill: #1967D2;\n",
       "      height: 32px;\n",
       "      padding: 0 0 0 0;\n",
       "      width: 32px;\n",
       "    }\n",
       "\n",
       "    .colab-df-convert:hover {\n",
       "      background-color: #E2EBFA;\n",
       "      box-shadow: 0px 1px 2px rgba(60, 64, 67, 0.3), 0px 1px 3px 1px rgba(60, 64, 67, 0.15);\n",
       "      fill: #174EA6;\n",
       "    }\n",
       "\n",
       "    [theme=dark] .colab-df-convert {\n",
       "      background-color: #3B4455;\n",
       "      fill: #D2E3FC;\n",
       "    }\n",
       "\n",
       "    [theme=dark] .colab-df-convert:hover {\n",
       "      background-color: #434B5C;\n",
       "      box-shadow: 0px 1px 3px 1px rgba(0, 0, 0, 0.15);\n",
       "      filter: drop-shadow(0px 1px 2px rgba(0, 0, 0, 0.3));\n",
       "      fill: #FFFFFF;\n",
       "    }\n",
       "  </style>\n",
       "\n",
       "      <script>\n",
       "        const buttonEl =\n",
       "          document.querySelector('#df-c2f26acb-8dcb-40a6-b9c8-0dbdb33265b7 button.colab-df-convert');\n",
       "        buttonEl.style.display =\n",
       "          google.colab.kernel.accessAllowed ? 'block' : 'none';\n",
       "\n",
       "        async function convertToInteractive(key) {\n",
       "          const element = document.querySelector('#df-c2f26acb-8dcb-40a6-b9c8-0dbdb33265b7');\n",
       "          const dataTable =\n",
       "            await google.colab.kernel.invokeFunction('convertToInteractive',\n",
       "                                                     [key], {});\n",
       "          if (!dataTable) return;\n",
       "\n",
       "          const docLinkHtml = 'Like what you see? Visit the ' +\n",
       "            '<a target=\"_blank\" href=https://colab.research.google.com/notebooks/data_table.ipynb>data table notebook</a>'\n",
       "            + ' to learn more about interactive tables.';\n",
       "          element.innerHTML = '';\n",
       "          dataTable['output_type'] = 'display_data';\n",
       "          await google.colab.output.renderOutput(dataTable, element);\n",
       "          const docLink = document.createElement('div');\n",
       "          docLink.innerHTML = docLinkHtml;\n",
       "          element.appendChild(docLink);\n",
       "        }\n",
       "      </script>\n",
       "    </div>\n",
       "  </div>\n",
       "  "
      ],
      "text/plain": [
       "        id                                              title  \\\n",
       "0  1267423  Muhle Manikure Песочные колпачки для педикюра ...   \n",
       "1   128833                Sony Xperia L1 Защитное стекло 2,5D   \n",
       "2   569924     Конверт для денег Прекрасная роза, 16,5 х 8 см   \n",
       "3  1264824                                             Серьги   \n",
       "4  1339052  Наклейки на унитаз для туалета на крышку бачок...   \n",
       "\n",
       "                                   short_description  \\\n",
       "0  Muhle Manikure Колпачок песочный шлифовальный ...   \n",
       "1                                               None   \n",
       "2   Конверт для денег «Прекрасная роза», 16,5 × 8 см   \n",
       "3                                               None   \n",
       "4  Водостойкая, интересная наклейка на унитаз раз...   \n",
       "\n",
       "  name_value_characteristics    rating  feedback_quantity  category_id  \n",
       "0                       None  0.000000                  0         2693  \n",
       "1                       None  4.666667                  9        13408  \n",
       "2                       None  5.000000                  6        11790  \n",
       "3                       None  0.000000                  0        14076  \n",
       "4                       None  0.000000                  0        12401  "
      ]
     },
     "execution_count": 5,
     "metadata": {},
     "output_type": "execute_result"
    }
   ],
   "source": [
    "train.head()\n"
   ]
  },
  {
   "cell_type": "code",
   "execution_count": null,
   "metadata": {
    "colab": {
     "base_uri": "https://localhost:8080/"
    },
    "id": "U2GbwW1ItBS5",
    "outputId": "7bb0a68e-f11a-4c6f-dc59-90d3d8e93f42"
   },
   "outputs": [
    {
     "name": "stdout",
     "output_type": "stream",
     "text": [
      "Количество уникальных заголовков: 239986\n",
      "Количество уникальных категорий: 1231\n",
      "Количество уникальных идентификаторов товара: 283452\n"
     ]
    }
   ],
   "source": [
    "print('Количество уникальных заголовков:', train['title'].nunique())\n",
    "print(\"Количество уникальных категорий:\",train['category_id'].nunique())\n",
    "print(\"Количество уникальных идентификаторов товара:\",train['id'].nunique())"
   ]
  },
  {
   "cell_type": "code",
   "execution_count": 112,
   "metadata": {
    "colab": {
     "base_uri": "https://localhost:8080/"
    },
    "id": "QiIkEYU1yJz9",
    "outputId": "ffe7e471-4e33-421c-b032-30c207129451"
   },
   "outputs": [
    {
     "name": "stdout",
     "output_type": "stream",
     "text": [
      "<class 'pandas.core.frame.DataFrame'>\n",
      "Int64Index: 242720 entries, 0 to 283451\n",
      "Data columns (total 8 columns):\n",
      " #   Column                      Non-Null Count   Dtype  \n",
      "---  ------                      --------------   -----  \n",
      " 0   id                          242720 non-null  int64  \n",
      " 1   title                       242720 non-null  object \n",
      " 2   short_description           117302 non-null  object \n",
      " 3   name_value_characteristics  41276 non-null   object \n",
      " 4   rating                      242720 non-null  float64\n",
      " 5   feedback_quantity           242720 non-null  int64  \n",
      " 6   category_id                 242720 non-null  int64  \n",
      " 7   new_title2                  242720 non-null  object \n",
      "dtypes: float64(1), int64(3), object(4)\n",
      "memory usage: 16.7+ MB\n"
     ]
    }
   ],
   "source": [
    "#удаление дубликатов\n",
    "train_drop = train.drop_duplicates(subset=['title', 'category_id'], keep=\"first\")\n",
    "train_drop.info()"
   ]
  },
  {
   "cell_type": "code",
   "execution_count": 113,
   "metadata": {
    "colab": {
     "base_uri": "https://localhost:8080/"
    },
    "id": "pXcplla12IWX",
    "outputId": "d408896f-f38c-4556-eed4-f6989a5a4913"
   },
   "outputs": [
    {
     "name": "stdout",
     "output_type": "stream",
     "text": [
      "Количество уникальных заголовков: 239986\n",
      "Количество уникальных категорий: 1231\n",
      "Количество уникальных идентификаторов товара: 242720\n"
     ]
    }
   ],
   "source": [
    "print('Количество уникальных заголовков:', fiks['title'].nunique())\n",
    "print(\"Количество уникальных категорий:\",fiks['category_id'].nunique())\n",
    "print(\"Количество уникальных идентификаторов товара:\",fiks['id'].nunique())"
   ]
  },
  {
   "cell_type": "code",
   "execution_count": 85,
   "metadata": {
    "colab": {
     "base_uri": "https://localhost:8080/",
     "height": 423
    },
    "id": "BJEnPdJWtBWS",
    "outputId": "848dab48-a244-44e4-f400-6f56367f0169"
   },
   "outputs": [
    {
     "data": {
      "text/html": [
       "\n",
       "  <div id=\"df-b5d79eea-8448-4d1e-862d-20ca5dc782ca\">\n",
       "    <div class=\"colab-df-container\">\n",
       "      <div>\n",
       "<style scoped>\n",
       "    .dataframe tbody tr th:only-of-type {\n",
       "        vertical-align: middle;\n",
       "    }\n",
       "\n",
       "    .dataframe tbody tr th {\n",
       "        vertical-align: top;\n",
       "    }\n",
       "\n",
       "    .dataframe thead th {\n",
       "        text-align: right;\n",
       "    }\n",
       "</style>\n",
       "<table border=\"1\" class=\"dataframe\">\n",
       "  <thead>\n",
       "    <tr style=\"text-align: right;\">\n",
       "      <th></th>\n",
       "      <th>category_id</th>\n",
       "      <th>title</th>\n",
       "    </tr>\n",
       "  </thead>\n",
       "  <tbody>\n",
       "    <tr>\n",
       "      <th>0</th>\n",
       "      <td>11937</td>\n",
       "      <td>14967</td>\n",
       "    </tr>\n",
       "    <tr>\n",
       "      <th>1</th>\n",
       "      <td>13408</td>\n",
       "      <td>7153</td>\n",
       "    </tr>\n",
       "    <tr>\n",
       "      <th>2</th>\n",
       "      <td>13061</td>\n",
       "      <td>6434</td>\n",
       "    </tr>\n",
       "    <tr>\n",
       "      <th>3</th>\n",
       "      <td>13143</td>\n",
       "      <td>6145</td>\n",
       "    </tr>\n",
       "    <tr>\n",
       "      <th>4</th>\n",
       "      <td>13253</td>\n",
       "      <td>3390</td>\n",
       "    </tr>\n",
       "    <tr>\n",
       "      <th>...</th>\n",
       "      <td>...</td>\n",
       "      <td>...</td>\n",
       "    </tr>\n",
       "    <tr>\n",
       "      <th>1226</th>\n",
       "      <td>12396</td>\n",
       "      <td>2</td>\n",
       "    </tr>\n",
       "    <tr>\n",
       "      <th>1227</th>\n",
       "      <td>2835</td>\n",
       "      <td>2</td>\n",
       "    </tr>\n",
       "    <tr>\n",
       "      <th>1228</th>\n",
       "      <td>2832</td>\n",
       "      <td>2</td>\n",
       "    </tr>\n",
       "    <tr>\n",
       "      <th>1229</th>\n",
       "      <td>14275</td>\n",
       "      <td>2</td>\n",
       "    </tr>\n",
       "    <tr>\n",
       "      <th>1230</th>\n",
       "      <td>2598</td>\n",
       "      <td>2</td>\n",
       "    </tr>\n",
       "  </tbody>\n",
       "</table>\n",
       "<p>1231 rows × 2 columns</p>\n",
       "</div>\n",
       "      <button class=\"colab-df-convert\" onclick=\"convertToInteractive('df-b5d79eea-8448-4d1e-862d-20ca5dc782ca')\"\n",
       "              title=\"Convert this dataframe to an interactive table.\"\n",
       "              style=\"display:none;\">\n",
       "        \n",
       "  <svg xmlns=\"http://www.w3.org/2000/svg\" height=\"24px\"viewBox=\"0 0 24 24\"\n",
       "       width=\"24px\">\n",
       "    <path d=\"M0 0h24v24H0V0z\" fill=\"none\"/>\n",
       "    <path d=\"M18.56 5.44l.94 2.06.94-2.06 2.06-.94-2.06-.94-.94-2.06-.94 2.06-2.06.94zm-11 1L8.5 8.5l.94-2.06 2.06-.94-2.06-.94L8.5 2.5l-.94 2.06-2.06.94zm10 10l.94 2.06.94-2.06 2.06-.94-2.06-.94-.94-2.06-.94 2.06-2.06.94z\"/><path d=\"M17.41 7.96l-1.37-1.37c-.4-.4-.92-.59-1.43-.59-.52 0-1.04.2-1.43.59L10.3 9.45l-7.72 7.72c-.78.78-.78 2.05 0 2.83L4 21.41c.39.39.9.59 1.41.59.51 0 1.02-.2 1.41-.59l7.78-7.78 2.81-2.81c.8-.78.8-2.07 0-2.86zM5.41 20L4 18.59l7.72-7.72 1.47 1.35L5.41 20z\"/>\n",
       "  </svg>\n",
       "      </button>\n",
       "      \n",
       "  <style>\n",
       "    .colab-df-container {\n",
       "      display:flex;\n",
       "      flex-wrap:wrap;\n",
       "      gap: 12px;\n",
       "    }\n",
       "\n",
       "    .colab-df-convert {\n",
       "      background-color: #E8F0FE;\n",
       "      border: none;\n",
       "      border-radius: 50%;\n",
       "      cursor: pointer;\n",
       "      display: none;\n",
       "      fill: #1967D2;\n",
       "      height: 32px;\n",
       "      padding: 0 0 0 0;\n",
       "      width: 32px;\n",
       "    }\n",
       "\n",
       "    .colab-df-convert:hover {\n",
       "      background-color: #E2EBFA;\n",
       "      box-shadow: 0px 1px 2px rgba(60, 64, 67, 0.3), 0px 1px 3px 1px rgba(60, 64, 67, 0.15);\n",
       "      fill: #174EA6;\n",
       "    }\n",
       "\n",
       "    [theme=dark] .colab-df-convert {\n",
       "      background-color: #3B4455;\n",
       "      fill: #D2E3FC;\n",
       "    }\n",
       "\n",
       "    [theme=dark] .colab-df-convert:hover {\n",
       "      background-color: #434B5C;\n",
       "      box-shadow: 0px 1px 3px 1px rgba(0, 0, 0, 0.15);\n",
       "      filter: drop-shadow(0px 1px 2px rgba(0, 0, 0, 0.3));\n",
       "      fill: #FFFFFF;\n",
       "    }\n",
       "  </style>\n",
       "\n",
       "      <script>\n",
       "        const buttonEl =\n",
       "          document.querySelector('#df-b5d79eea-8448-4d1e-862d-20ca5dc782ca button.colab-df-convert');\n",
       "        buttonEl.style.display =\n",
       "          google.colab.kernel.accessAllowed ? 'block' : 'none';\n",
       "\n",
       "        async function convertToInteractive(key) {\n",
       "          const element = document.querySelector('#df-b5d79eea-8448-4d1e-862d-20ca5dc782ca');\n",
       "          const dataTable =\n",
       "            await google.colab.kernel.invokeFunction('convertToInteractive',\n",
       "                                                     [key], {});\n",
       "          if (!dataTable) return;\n",
       "\n",
       "          const docLinkHtml = 'Like what you see? Visit the ' +\n",
       "            '<a target=\"_blank\" href=https://colab.research.google.com/notebooks/data_table.ipynb>data table notebook</a>'\n",
       "            + ' to learn more about interactive tables.';\n",
       "          element.innerHTML = '';\n",
       "          dataTable['output_type'] = 'display_data';\n",
       "          await google.colab.output.renderOutput(dataTable, element);\n",
       "          const docLink = document.createElement('div');\n",
       "          docLink.innerHTML = docLinkHtml;\n",
       "          element.appendChild(docLink);\n",
       "        }\n",
       "      </script>\n",
       "    </div>\n",
       "  </div>\n",
       "  "
      ],
      "text/plain": [
       "      category_id  title\n",
       "0           11937  14967\n",
       "1           13408   7153\n",
       "2           13061   6434\n",
       "3           13143   6145\n",
       "4           13253   3390\n",
       "...           ...    ...\n",
       "1226        12396      2\n",
       "1227         2835      2\n",
       "1228         2832      2\n",
       "1229        14275      2\n",
       "1230         2598      2\n",
       "\n",
       "[1231 rows x 2 columns]"
      ]
     },
     "execution_count": 85,
     "metadata": {},
     "output_type": "execute_result"
    }
   ],
   "source": [
    "#распределение по количеству товаров в каждой категории\n",
    "distribute = pd.DataFrame(train[['category_id','title']].groupby('category_id')['title'].count()).sort_values('title', ascending=False)\n",
    "distribute = distribute.reset_index()\n",
    "distribute\n"
   ]
  },
  {
   "cell_type": "code",
   "execution_count": 22,
   "metadata": {
    "colab": {
     "base_uri": "https://localhost:8080/"
    },
    "id": "23L4F4DVN31R",
    "outputId": "4a784e9e-558f-4f4b-9490-896c9bdf291a"
   },
   "outputs": [
    {
     "data": {
      "text/plain": [
       "count     1231.0\n",
       "mean       230.0\n",
       "std        657.0\n",
       "min          2.0\n",
       "25%         17.0\n",
       "50%         60.0\n",
       "75%        200.0\n",
       "max      14967.0\n",
       "Name: title, dtype: float64"
      ]
     },
     "execution_count": 22,
     "metadata": {},
     "output_type": "execute_result"
    }
   ],
   "source": [
    "distribute['title'].describe().round()"
   ]
  },
  {
   "cell_type": "markdown",
   "metadata": {
    "id": "A2c-ArWWOMk3"
   },
   "source": [
    "Как видно классы несбалансированы, что может являться причиной неверной классификации редких классов. Уменьшим количество классов, число которых более 300, до 300 значений. И ответим на вопрос, повлияла ли такая эвристическая балансировка классов на точность модели."
   ]
  },
  {
   "cell_type": "code",
   "execution_count": 114,
   "metadata": {
    "colab": {
     "base_uri": "https://localhost:8080/"
    },
    "id": "pS8rgvSrQba6",
    "outputId": "2b036256-f3e2-4eab-adeb-1bbde3f95454"
   },
   "outputs": [
    {
     "name": "stdout",
     "output_type": "stream",
     "text": [
      "<class 'pandas.core.frame.DataFrame'>\n",
      "Int64Index: 218 entries, 0 to 217\n",
      "Data columns (total 2 columns):\n",
      " #   Column       Non-Null Count  Dtype\n",
      "---  ------       --------------  -----\n",
      " 0   category_id  218 non-null    int64\n",
      " 1   title        218 non-null    int64\n",
      "dtypes: int64(2)\n",
      "memory usage: 5.1 KB\n"
     ]
    }
   ],
   "source": [
    "#Определений категорий товаров в тестовом датасете кол-во которых более 300\n",
    "name_category_for_train_balance = distribute[distribute['title'] >= 300]\n",
    "name_category_for_train_balance.info()"
   ]
  },
  {
   "cell_type": "code",
   "execution_count": 115,
   "metadata": {
    "colab": {
     "base_uri": "https://localhost:8080/"
    },
    "id": "Jo-aUg6AOMBK",
    "outputId": "9162cf8f-2a3d-445f-95de-dc521a245525"
   },
   "outputs": [
    {
     "name": "stdout",
     "output_type": "stream",
     "text": [
      "<class 'pandas.core.frame.DataFrame'>\n",
      "Int64Index: 135838 entries, 3 to 283451\n",
      "Data columns (total 8 columns):\n",
      " #   Column                      Non-Null Count   Dtype  \n",
      "---  ------                      --------------   -----  \n",
      " 0   id                          135838 non-null  int64  \n",
      " 1   title                       135838 non-null  object \n",
      " 2   short_description           64795 non-null   object \n",
      " 3   name_value_characteristics  23716 non-null   object \n",
      " 4   rating                      135838 non-null  float64\n",
      " 5   feedback_quantity           135838 non-null  int64  \n",
      " 6   category_id                 135838 non-null  int64  \n",
      " 7   new_title2                  135838 non-null  object \n",
      "dtypes: float64(1), int64(3), object(4)\n",
      "memory usage: 13.4+ MB\n"
     ]
    }
   ],
   "source": [
    "#cоздание \"сбалансированного\" датафрейма\n",
    "train_balance = train\n",
    "for i in name_category_for_train_balance['category_id']:\n",
    "  count = int(name_category_for_train_balance[name_category_for_train_balance['category_id'] == i]['title'] - 300)\n",
    "  idx = train_balance.index.values[train_balance['category_id'] == i][:count] \n",
    "  train_balance = train_balance.drop(idx)\n",
    "train_balance.info()"
   ]
  },
  {
   "cell_type": "code",
   "execution_count": 116,
   "metadata": {
    "id": "zMmdW4pEtBaV"
   },
   "outputs": [],
   "source": [
    "#Функции для обработки текста\n",
    "#функция токенезации:\n",
    "import re\n",
    "def tokeniz(text):\n",
    "  text = text.split()\n",
    "  return text\n",
    "\n",
    "#функция избавляющая от \"лишних\" символов\n",
    "patterns = \"[A-Za-z0-9!#$%&'()*+,./:;<=>?@[\\]^_`{|}~—\\\"\\-]+\"\n",
    "def regular(text):\n",
    "  text = re.sub(patterns, '', text)\n",
    "  return text\n",
    "\n",
    "# функция лемматизации и удаления стоп-слов\n",
    "import pymorphy2\n",
    "stopwords_ru = stopwords.words(\"russian\")\n",
    "morph = pymorphy2.MorphAnalyzer()\n",
    "def lematiz(text):\n",
    "  new_text = []\n",
    "  for word in text:\n",
    "    if word not in stopwords_ru:\n",
    "      word = morph.normal_forms(word)[0]\n",
    "      new_text.append(word)\n",
    "  return new_text\n",
    "\n",
    "#функция для преобразования списка в строку\n",
    "def string(text):\n",
    "  text = ' '.join(text)\n",
    "  return(text)"
   ]
  },
  {
   "cell_type": "markdown",
   "metadata": {
    "id": "ViwZnXqJup3N"
   },
   "source": [
    "Дополнительный анализ слов, для улучшения модели.\n",
    "\n",
    "Нахождение слов, которые не несут смысловую нагрузку, но встречаются часто."
   ]
  },
  {
   "cell_type": "code",
   "execution_count": 117,
   "metadata": {
    "id": "dDbfl8PrupWW"
   },
   "outputs": [],
   "source": [
    "#создание столбца с обработанными заголовками в виде списков для дальнейшей обработки\n",
    "train['vocabluary'] = train['title'].apply(regular).apply(tokeniz).apply(lematiz)"
   ]
  },
  {
   "cell_type": "code",
   "execution_count": 118,
   "metadata": {
    "colab": {
     "base_uri": "https://localhost:8080/",
     "height": 371
    },
    "id": "lHszbhoR1NLX",
    "outputId": "21f79b16-17df-46a2-fe2f-0dd488f39005"
   },
   "outputs": [
    {
     "data": {
      "text/html": [
       "\n",
       "  <div id=\"df-ef911499-5e16-4934-aac3-6ddd81352c8e\">\n",
       "    <div class=\"colab-df-container\">\n",
       "      <div>\n",
       "<style scoped>\n",
       "    .dataframe tbody tr th:only-of-type {\n",
       "        vertical-align: middle;\n",
       "    }\n",
       "\n",
       "    .dataframe tbody tr th {\n",
       "        vertical-align: top;\n",
       "    }\n",
       "\n",
       "    .dataframe thead th {\n",
       "        text-align: right;\n",
       "    }\n",
       "</style>\n",
       "<table border=\"1\" class=\"dataframe\">\n",
       "  <thead>\n",
       "    <tr style=\"text-align: right;\">\n",
       "      <th></th>\n",
       "      <th>id</th>\n",
       "      <th>title</th>\n",
       "      <th>short_description</th>\n",
       "      <th>name_value_characteristics</th>\n",
       "      <th>rating</th>\n",
       "      <th>feedback_quantity</th>\n",
       "      <th>category_id</th>\n",
       "      <th>new_title2</th>\n",
       "      <th>vocabluary</th>\n",
       "    </tr>\n",
       "  </thead>\n",
       "  <tbody>\n",
       "    <tr>\n",
       "      <th>0</th>\n",
       "      <td>1267423</td>\n",
       "      <td>Muhle Manikure Песочные колпачки для педикюра ...</td>\n",
       "      <td>Muhle Manikure Колпачок песочный шлифовальный ...</td>\n",
       "      <td>None</td>\n",
       "      <td>0.000000</td>\n",
       "      <td>0</td>\n",
       "      <td>2693</td>\n",
       "      <td>песочный колпачок педикюр средний грита упаковка</td>\n",
       "      <td>[песочный, колпачок, педикюр, средний, грита, ...</td>\n",
       "    </tr>\n",
       "    <tr>\n",
       "      <th>1</th>\n",
       "      <td>128833</td>\n",
       "      <td>Sony Xperia L1 Защитное стекло 2,5D</td>\n",
       "      <td>None</td>\n",
       "      <td>None</td>\n",
       "      <td>4.666667</td>\n",
       "      <td>9</td>\n",
       "      <td>13408</td>\n",
       "      <td>защитный стекло</td>\n",
       "      <td>[защитный, стекло]</td>\n",
       "    </tr>\n",
       "    <tr>\n",
       "      <th>2</th>\n",
       "      <td>569924</td>\n",
       "      <td>Конверт для денег Прекрасная роза, 16,5 х 8 см</td>\n",
       "      <td>Конверт для денег «Прекрасная роза», 16,5 × 8 см</td>\n",
       "      <td>None</td>\n",
       "      <td>5.000000</td>\n",
       "      <td>6</td>\n",
       "      <td>11790</td>\n",
       "      <td>конверт деньга прекрасный роза смотреть</td>\n",
       "      <td>[конверт, деньга, прекрасный, роза, х, смотреть]</td>\n",
       "    </tr>\n",
       "    <tr>\n",
       "      <th>3</th>\n",
       "      <td>1264824</td>\n",
       "      <td>Серьги</td>\n",
       "      <td>None</td>\n",
       "      <td>None</td>\n",
       "      <td>0.000000</td>\n",
       "      <td>0</td>\n",
       "      <td>14076</td>\n",
       "      <td>серьга</td>\n",
       "      <td>[серьга]</td>\n",
       "    </tr>\n",
       "    <tr>\n",
       "      <th>4</th>\n",
       "      <td>1339052</td>\n",
       "      <td>Наклейки на унитаз для туалета на крышку бачок...</td>\n",
       "      <td>Водостойкая, интересная наклейка на унитаз раз...</td>\n",
       "      <td>None</td>\n",
       "      <td>0.000000</td>\n",
       "      <td>0</td>\n",
       "      <td>12401</td>\n",
       "      <td>наклейка унитаз туалет крышка бачок дверь ванн...</td>\n",
       "      <td>[наклейка, унитаз, туалет, крышка, бачок, двер...</td>\n",
       "    </tr>\n",
       "  </tbody>\n",
       "</table>\n",
       "</div>\n",
       "      <button class=\"colab-df-convert\" onclick=\"convertToInteractive('df-ef911499-5e16-4934-aac3-6ddd81352c8e')\"\n",
       "              title=\"Convert this dataframe to an interactive table.\"\n",
       "              style=\"display:none;\">\n",
       "        \n",
       "  <svg xmlns=\"http://www.w3.org/2000/svg\" height=\"24px\"viewBox=\"0 0 24 24\"\n",
       "       width=\"24px\">\n",
       "    <path d=\"M0 0h24v24H0V0z\" fill=\"none\"/>\n",
       "    <path d=\"M18.56 5.44l.94 2.06.94-2.06 2.06-.94-2.06-.94-.94-2.06-.94 2.06-2.06.94zm-11 1L8.5 8.5l.94-2.06 2.06-.94-2.06-.94L8.5 2.5l-.94 2.06-2.06.94zm10 10l.94 2.06.94-2.06 2.06-.94-2.06-.94-.94-2.06-.94 2.06-2.06.94z\"/><path d=\"M17.41 7.96l-1.37-1.37c-.4-.4-.92-.59-1.43-.59-.52 0-1.04.2-1.43.59L10.3 9.45l-7.72 7.72c-.78.78-.78 2.05 0 2.83L4 21.41c.39.39.9.59 1.41.59.51 0 1.02-.2 1.41-.59l7.78-7.78 2.81-2.81c.8-.78.8-2.07 0-2.86zM5.41 20L4 18.59l7.72-7.72 1.47 1.35L5.41 20z\"/>\n",
       "  </svg>\n",
       "      </button>\n",
       "      \n",
       "  <style>\n",
       "    .colab-df-container {\n",
       "      display:flex;\n",
       "      flex-wrap:wrap;\n",
       "      gap: 12px;\n",
       "    }\n",
       "\n",
       "    .colab-df-convert {\n",
       "      background-color: #E8F0FE;\n",
       "      border: none;\n",
       "      border-radius: 50%;\n",
       "      cursor: pointer;\n",
       "      display: none;\n",
       "      fill: #1967D2;\n",
       "      height: 32px;\n",
       "      padding: 0 0 0 0;\n",
       "      width: 32px;\n",
       "    }\n",
       "\n",
       "    .colab-df-convert:hover {\n",
       "      background-color: #E2EBFA;\n",
       "      box-shadow: 0px 1px 2px rgba(60, 64, 67, 0.3), 0px 1px 3px 1px rgba(60, 64, 67, 0.15);\n",
       "      fill: #174EA6;\n",
       "    }\n",
       "\n",
       "    [theme=dark] .colab-df-convert {\n",
       "      background-color: #3B4455;\n",
       "      fill: #D2E3FC;\n",
       "    }\n",
       "\n",
       "    [theme=dark] .colab-df-convert:hover {\n",
       "      background-color: #434B5C;\n",
       "      box-shadow: 0px 1px 3px 1px rgba(0, 0, 0, 0.15);\n",
       "      filter: drop-shadow(0px 1px 2px rgba(0, 0, 0, 0.3));\n",
       "      fill: #FFFFFF;\n",
       "    }\n",
       "  </style>\n",
       "\n",
       "      <script>\n",
       "        const buttonEl =\n",
       "          document.querySelector('#df-ef911499-5e16-4934-aac3-6ddd81352c8e button.colab-df-convert');\n",
       "        buttonEl.style.display =\n",
       "          google.colab.kernel.accessAllowed ? 'block' : 'none';\n",
       "\n",
       "        async function convertToInteractive(key) {\n",
       "          const element = document.querySelector('#df-ef911499-5e16-4934-aac3-6ddd81352c8e');\n",
       "          const dataTable =\n",
       "            await google.colab.kernel.invokeFunction('convertToInteractive',\n",
       "                                                     [key], {});\n",
       "          if (!dataTable) return;\n",
       "\n",
       "          const docLinkHtml = 'Like what you see? Visit the ' +\n",
       "            '<a target=\"_blank\" href=https://colab.research.google.com/notebooks/data_table.ipynb>data table notebook</a>'\n",
       "            + ' to learn more about interactive tables.';\n",
       "          element.innerHTML = '';\n",
       "          dataTable['output_type'] = 'display_data';\n",
       "          await google.colab.output.renderOutput(dataTable, element);\n",
       "          const docLink = document.createElement('div');\n",
       "          docLink.innerHTML = docLinkHtml;\n",
       "          element.appendChild(docLink);\n",
       "        }\n",
       "      </script>\n",
       "    </div>\n",
       "  </div>\n",
       "  "
      ],
      "text/plain": [
       "        id                                              title  \\\n",
       "0  1267423  Muhle Manikure Песочные колпачки для педикюра ...   \n",
       "1   128833                Sony Xperia L1 Защитное стекло 2,5D   \n",
       "2   569924     Конверт для денег Прекрасная роза, 16,5 х 8 см   \n",
       "3  1264824                                             Серьги   \n",
       "4  1339052  Наклейки на унитаз для туалета на крышку бачок...   \n",
       "\n",
       "                                   short_description  \\\n",
       "0  Muhle Manikure Колпачок песочный шлифовальный ...   \n",
       "1                                               None   \n",
       "2   Конверт для денег «Прекрасная роза», 16,5 × 8 см   \n",
       "3                                               None   \n",
       "4  Водостойкая, интересная наклейка на унитаз раз...   \n",
       "\n",
       "  name_value_characteristics    rating  feedback_quantity  category_id  \\\n",
       "0                       None  0.000000                  0         2693   \n",
       "1                       None  4.666667                  9        13408   \n",
       "2                       None  5.000000                  6        11790   \n",
       "3                       None  0.000000                  0        14076   \n",
       "4                       None  0.000000                  0        12401   \n",
       "\n",
       "                                          new_title2  \\\n",
       "0   песочный колпачок педикюр средний грита упаковка   \n",
       "1                                    защитный стекло   \n",
       "2            конверт деньга прекрасный роза смотреть   \n",
       "3                                             серьга   \n",
       "4  наклейка унитаз туалет крышка бачок дверь ванн...   \n",
       "\n",
       "                                          vocabluary  \n",
       "0  [песочный, колпачок, педикюр, средний, грита, ...  \n",
       "1                                 [защитный, стекло]  \n",
       "2   [конверт, деньга, прекрасный, роза, х, смотреть]  \n",
       "3                                           [серьга]  \n",
       "4  [наклейка, унитаз, туалет, крышка, бачок, двер...  "
      ]
     },
     "execution_count": 118,
     "metadata": {},
     "output_type": "execute_result"
    }
   ],
   "source": [
    "train.head()"
   ]
  },
  {
   "cell_type": "code",
   "execution_count": 119,
   "metadata": {
    "id": "AhSZTbw_tBg9"
   },
   "outputs": [],
   "source": [
    "#объединение всех отфильтрованных слов в один список\n",
    "vocabluary = []\n",
    "for i in train['vocabluary']:\n",
    "  vocabluary += i \n"
   ]
  },
  {
   "cell_type": "code",
   "execution_count": 120,
   "metadata": {
    "colab": {
     "base_uri": "https://localhost:8080/",
     "height": 423
    },
    "id": "mjp_Gn0qtBkm",
    "outputId": "320eb60e-1f4d-4dc2-8a78-595e3b51f595"
   },
   "outputs": [
    {
     "data": {
      "text/html": [
       "\n",
       "  <div id=\"df-61a4441d-c471-4887-ae9d-2a43f2e4172b\">\n",
       "    <div class=\"colab-df-container\">\n",
       "      <div>\n",
       "<style scoped>\n",
       "    .dataframe tbody tr th:only-of-type {\n",
       "        vertical-align: middle;\n",
       "    }\n",
       "\n",
       "    .dataframe tbody tr th {\n",
       "        vertical-align: top;\n",
       "    }\n",
       "\n",
       "    .dataframe thead th {\n",
       "        text-align: right;\n",
       "    }\n",
       "</style>\n",
       "<table border=\"1\" class=\"dataframe\">\n",
       "  <thead>\n",
       "    <tr style=\"text-align: right;\">\n",
       "      <th></th>\n",
       "      <th>word</th>\n",
       "      <th>count</th>\n",
       "    </tr>\n",
       "  </thead>\n",
       "  <tbody>\n",
       "    <tr>\n",
       "      <th>44</th>\n",
       "      <td>женский</td>\n",
       "      <td>23676</td>\n",
       "    </tr>\n",
       "    <tr>\n",
       "      <th>14</th>\n",
       "      <td>смотреть</td>\n",
       "      <td>19143</td>\n",
       "    </tr>\n",
       "    <tr>\n",
       "      <th>159</th>\n",
       "      <td>мл</td>\n",
       "      <td>18187</td>\n",
       "    </tr>\n",
       "    <tr>\n",
       "      <th>96</th>\n",
       "      <td>чехол</td>\n",
       "      <td>15353</td>\n",
       "    </tr>\n",
       "    <tr>\n",
       "      <th>142</th>\n",
       "      <td>набор</td>\n",
       "      <td>13995</td>\n",
       "    </tr>\n",
       "    <tr>\n",
       "      <th>...</th>\n",
       "      <td>...</td>\n",
       "      <td>...</td>\n",
       "    </tr>\n",
       "    <tr>\n",
       "      <th>1656</th>\n",
       "      <td>окно</td>\n",
       "      <td>425</td>\n",
       "    </tr>\n",
       "    <tr>\n",
       "      <th>904</th>\n",
       "      <td>окрашивание</td>\n",
       "      <td>423</td>\n",
       "    </tr>\n",
       "    <tr>\n",
       "      <th>1389</th>\n",
       "      <td>портативный</td>\n",
       "      <td>423</td>\n",
       "    </tr>\n",
       "    <tr>\n",
       "      <th>1436</th>\n",
       "      <td>слип</td>\n",
       "      <td>423</td>\n",
       "    </tr>\n",
       "    <tr>\n",
       "      <th>2793</th>\n",
       "      <td>ребёнок</td>\n",
       "      <td>422</td>\n",
       "    </tr>\n",
       "  </tbody>\n",
       "</table>\n",
       "<p>500 rows × 2 columns</p>\n",
       "</div>\n",
       "      <button class=\"colab-df-convert\" onclick=\"convertToInteractive('df-61a4441d-c471-4887-ae9d-2a43f2e4172b')\"\n",
       "              title=\"Convert this dataframe to an interactive table.\"\n",
       "              style=\"display:none;\">\n",
       "        \n",
       "  <svg xmlns=\"http://www.w3.org/2000/svg\" height=\"24px\"viewBox=\"0 0 24 24\"\n",
       "       width=\"24px\">\n",
       "    <path d=\"M0 0h24v24H0V0z\" fill=\"none\"/>\n",
       "    <path d=\"M18.56 5.44l.94 2.06.94-2.06 2.06-.94-2.06-.94-.94-2.06-.94 2.06-2.06.94zm-11 1L8.5 8.5l.94-2.06 2.06-.94-2.06-.94L8.5 2.5l-.94 2.06-2.06.94zm10 10l.94 2.06.94-2.06 2.06-.94-2.06-.94-.94-2.06-.94 2.06-2.06.94z\"/><path d=\"M17.41 7.96l-1.37-1.37c-.4-.4-.92-.59-1.43-.59-.52 0-1.04.2-1.43.59L10.3 9.45l-7.72 7.72c-.78.78-.78 2.05 0 2.83L4 21.41c.39.39.9.59 1.41.59.51 0 1.02-.2 1.41-.59l7.78-7.78 2.81-2.81c.8-.78.8-2.07 0-2.86zM5.41 20L4 18.59l7.72-7.72 1.47 1.35L5.41 20z\"/>\n",
       "  </svg>\n",
       "      </button>\n",
       "      \n",
       "  <style>\n",
       "    .colab-df-container {\n",
       "      display:flex;\n",
       "      flex-wrap:wrap;\n",
       "      gap: 12px;\n",
       "    }\n",
       "\n",
       "    .colab-df-convert {\n",
       "      background-color: #E8F0FE;\n",
       "      border: none;\n",
       "      border-radius: 50%;\n",
       "      cursor: pointer;\n",
       "      display: none;\n",
       "      fill: #1967D2;\n",
       "      height: 32px;\n",
       "      padding: 0 0 0 0;\n",
       "      width: 32px;\n",
       "    }\n",
       "\n",
       "    .colab-df-convert:hover {\n",
       "      background-color: #E2EBFA;\n",
       "      box-shadow: 0px 1px 2px rgba(60, 64, 67, 0.3), 0px 1px 3px 1px rgba(60, 64, 67, 0.15);\n",
       "      fill: #174EA6;\n",
       "    }\n",
       "\n",
       "    [theme=dark] .colab-df-convert {\n",
       "      background-color: #3B4455;\n",
       "      fill: #D2E3FC;\n",
       "    }\n",
       "\n",
       "    [theme=dark] .colab-df-convert:hover {\n",
       "      background-color: #434B5C;\n",
       "      box-shadow: 0px 1px 3px 1px rgba(0, 0, 0, 0.15);\n",
       "      filter: drop-shadow(0px 1px 2px rgba(0, 0, 0, 0.3));\n",
       "      fill: #FFFFFF;\n",
       "    }\n",
       "  </style>\n",
       "\n",
       "      <script>\n",
       "        const buttonEl =\n",
       "          document.querySelector('#df-61a4441d-c471-4887-ae9d-2a43f2e4172b button.colab-df-convert');\n",
       "        buttonEl.style.display =\n",
       "          google.colab.kernel.accessAllowed ? 'block' : 'none';\n",
       "\n",
       "        async function convertToInteractive(key) {\n",
       "          const element = document.querySelector('#df-61a4441d-c471-4887-ae9d-2a43f2e4172b');\n",
       "          const dataTable =\n",
       "            await google.colab.kernel.invokeFunction('convertToInteractive',\n",
       "                                                     [key], {});\n",
       "          if (!dataTable) return;\n",
       "\n",
       "          const docLinkHtml = 'Like what you see? Visit the ' +\n",
       "            '<a target=\"_blank\" href=https://colab.research.google.com/notebooks/data_table.ipynb>data table notebook</a>'\n",
       "            + ' to learn more about interactive tables.';\n",
       "          element.innerHTML = '';\n",
       "          dataTable['output_type'] = 'display_data';\n",
       "          await google.colab.output.renderOutput(dataTable, element);\n",
       "          const docLink = document.createElement('div');\n",
       "          docLink.innerHTML = docLinkHtml;\n",
       "          element.appendChild(docLink);\n",
       "        }\n",
       "      </script>\n",
       "    </div>\n",
       "  </div>\n",
       "  "
      ],
      "text/plain": [
       "             word  count\n",
       "44        женский  23676\n",
       "14       смотреть  19143\n",
       "159            мл  18187\n",
       "96          чехол  15353\n",
       "142         набор  13995\n",
       "...           ...    ...\n",
       "1656         окно    425\n",
       "904   окрашивание    423\n",
       "1389  портативный    423\n",
       "1436         слип    423\n",
       "2793      ребёнок    422\n",
       "\n",
       "[500 rows x 2 columns]"
      ]
     },
     "execution_count": 120,
     "metadata": {},
     "output_type": "execute_result"
    }
   ],
   "source": [
    "#подсчет количества вхождений каждого слова и сортировка по убыванию\n",
    "vocabluary_count = Counter(vocabluary)\n",
    "vocabluary_count = pd.DataFrame.from_dict(vocabluary_count, orient='index').reset_index()\n",
    "vocabluary_count.rename(columns={\"index\":'word', 0: \"count\"}, inplace=True)\n",
    "vocabluary_count.sort_values(\"count\", ascending=False).head(500)"
   ]
  },
  {
   "cell_type": "code",
   "execution_count": 46,
   "metadata": {
    "id": "sHlz4iIM7Fp5"
   },
   "outputs": [],
   "source": [
    "#добавление в список стоп-слов\n",
    "new_words=['женский', 'смотреть', 'мл', 'х', 'шт', 'мужской', 'цвет', 'чёрный', 'подарочный', 'девочка', 'штука', 'мм', 'принтом', 'подарок',\n",
    " 'белый', 'размер', 'мальчик', 'с', 'м', 'л', '№', 'г', 'часы', 'вид', 'натуральный',\n",
    " 'унисекс', 'год', 'рождение', 'универсальный', 'пара', 'цветной', 'сердце', 'рисунок', 'хлопковый', 'дизайн', 'красный', 'а', 'короткий', 'для',\n",
    " 'ванна', 'длинный','надпись', 'круглый', 'упаковочный', 'искусственный', 'высокий', 'гр', 'душа', 'новый', \n",
    " 'устройство', 'век', 'хх', 'февраль', 'работа', 'новорождённый', 'зелёный', 'синий', 'вода', 'умывание', 'нижний', 'наращивание', 'дисплей', 'двойной',\n",
    " 'зимний', 'разный', 'хсм', 'метр', 'тон', 'микс', 'фольгировать', 'в', 'больший', 'мягкий', 'белые', 'ты', 'я', \n",
    " 'одноразовый', 'тип', 'узор', 'ребёнок']\n",
    "stopwords_ru_new = stopwords.words(\"russian\")\n",
    "for i in new_words:\n",
    "    stopwords_ru_new.append(i)"
   ]
  },
  {
   "cell_type": "code",
   "execution_count": 121,
   "metadata": {
    "id": "C95eVJLX3W5R"
   },
   "outputs": [],
   "source": [
    "#функция лемматизации с обновленным словарём стоп-слов\n",
    "def lematiz2(text):\n",
    "  new_text = []\n",
    "  for word in text:\n",
    "    if word not in stopwords_ru_new:\n",
    "      word = morph.normal_forms(word)[0]      \n",
    "      new_text.append(word)\n",
    "  return new_text\n",
    "\n"
   ]
  },
  {
   "cell_type": "markdown",
   "metadata": {
    "id": "UKSdC_N11p1P"
   },
   "source": [
    "Обработка текста"
   ]
  },
  {
   "cell_type": "code",
   "execution_count": 122,
   "metadata": {
    "id": "wtAr2KC-tBoo"
   },
   "outputs": [],
   "source": [
    "# обработка слов на полных данных\n",
    "train['new_title2'] = train['title'].apply(regular).apply(tokeniz).apply(lematiz2).apply(string)"
   ]
  },
  {
   "cell_type": "code",
   "execution_count": 123,
   "metadata": {
    "id": "OyJj6QvENkEF"
   },
   "outputs": [],
   "source": [
    "#обработка слов на \"сбалансированных\" данных\n",
    "train_balance['new_title2'] = train_balance['title'].apply(regular).apply(tokeniz).apply(lematiz2).apply(string)"
   ]
  },
  {
   "cell_type": "code",
   "execution_count": 124,
   "metadata": {
    "colab": {
     "base_uri": "https://localhost:8080/"
    },
    "id": "Q9QqrTnlyi6y",
    "outputId": "9ea1c7a8-5a29-4456-e475-c2240637e321",
    "scrolled": true
   },
   "outputs": [
    {
     "name": "stderr",
     "output_type": "stream",
     "text": [
      "/usr/local/lib/python3.7/dist-packages/ipykernel_launcher.py:2: SettingWithCopyWarning:\n",
      "\n",
      "\n",
      "A value is trying to be set on a copy of a slice from a DataFrame.\n",
      "Try using .loc[row_indexer,col_indexer] = value instead\n",
      "\n",
      "See the caveats in the documentation: https://pandas.pydata.org/pandas-docs/stable/user_guide/indexing.html#returning-a-view-versus-a-copy\n",
      "\n"
     ]
    }
   ],
   "source": [
    "#обработка слов на данных без дубликатов\n",
    "train_drop['new_title2'] = train_drop['title'].apply(regular).apply(tokeniz).apply(lematiz2).apply(string)\n",
    "train_drop = train_drop.reset_index(drop=True)"
   ]
  },
  {
   "cell_type": "markdown",
   "metadata": {
    "id": "k1SShQx-NkUs"
   },
   "source": [
    "Выбор модели\n",
    "\n"
   ]
  },
  {
   "cell_type": "code",
   "execution_count": 125,
   "metadata": {
    "id": "icR9Glbywf_D"
   },
   "outputs": [],
   "source": [
    "#Разбиение на обучающую и тестовую выборку полных данных \n",
    "x = train['new_title2']\n",
    "y = train['category_id']\n",
    "X_train, X_test, y_train, y_test = train_test_split(x, y, test_size=0.33)"
   ]
  },
  {
   "cell_type": "code",
   "execution_count": 126,
   "metadata": {
    "id": "gGGhcDPuUj30"
   },
   "outputs": [],
   "source": [
    "#Разбиение на обучающую и тестовую выборку на \"сбалансированных\" данных\n",
    "x_balance = train_balance['new_title2']\n",
    "y_balance = train_balance['category_id']\n",
    "X_train_balance, X_test_balance, y_train_balance, y_test_balance = train_test_split(x_balance, y_balance, test_size=0.33)"
   ]
  },
  {
   "cell_type": "code",
   "execution_count": 127,
   "metadata": {
    "id": "z8rIeU06yojx"
   },
   "outputs": [],
   "source": [
    "#Разбиение на обучающую и тестовую выборку на данных без дубликатов\n",
    "x_drop = train_drop['new_title2']\n",
    "y_drop = train_drop['category_id']\n",
    "X_train_drop, X_test_drop, y_train_drop, y_test_drop = train_test_split(x_drop, y_drop, test_size=0.33)"
   ]
  },
  {
   "cell_type": "code",
   "execution_count": 128,
   "metadata": {
    "colab": {
     "base_uri": "https://localhost:8080/"
    },
    "id": "qJ2DN0SnwgDm",
    "outputId": "57188566-6b94-4f74-d9ae-17bcdc63f83d"
   },
   "outputs": [
    {
     "name": "stdout",
     "output_type": "stream",
     "text": [
      "Полные данные, модель НБ, f1_score: 0.5901004917682275\n",
      "сбалансированные данные, модель НБ, f1_score: 0.6346621455819038\n",
      "данные без дубликатов, модель НБ, f1_score: 0.5620365052810308\n"
     ]
    }
   ],
   "source": [
    "#создание и обучение модели наивный байесовский классификатор\n",
    "nb = Pipeline([('vect', CountVectorizer()),\n",
    "               ('tfidf', TfidfTransformer()),\n",
    "               ('clf', MultinomialNB()),\n",
    "              ])\n",
    "#Обучение и предсказание на полных данных\n",
    "nb_all = nb.fit(X_train, y_train)\n",
    "y_pred_all = nb_all.predict(X_test)\n",
    "\n",
    "#Обучение и предсказание на \"сбалансированных\" данных\n",
    "nb_balance = nb.fit(X_train_balance, y_train_balance)\n",
    "y_pred_balance = nb_balance.predict(X_test_balance)\n",
    "\n",
    "#Обучение и предсказание на данных без дупликатов\n",
    "nb_drop = nb.fit(X_train_drop, y_train_drop)\n",
    "y_pred_drop = nb_drop.predict(X_test_drop)\n",
    "#оценка модели\n",
    "print(\"Полные данные, модель НБ, f1_score:\", f1_score(y_test, y_pred_all, average='micro'))\n",
    "print(\"сбалансированные данные, модель НБ, f1_score:\", f1_score(y_test_balance, y_pred_balance, average='micro'))\n",
    "print(\"данные без дубликатов, модель НБ, f1_score:\", f1_score(y_test_drop, y_pred_drop, average='micro'))"
   ]
  },
  {
   "cell_type": "code",
   "execution_count": 130,
   "metadata": {
    "colab": {
     "base_uri": "https://localhost:8080/"
    },
    "id": "Hv62UdkTAhvg",
    "outputId": "04277f06-c628-4586-ce39-de89162c7846"
   },
   "outputs": [
    {
     "name": "stdout",
     "output_type": "stream",
     "text": [
      "Полные данные, модель K_neigh, f1_score: 0.7314838571734017\n",
      "сбалансированные данные, модель K_neigh, f1_score: 0.6403506815089121\n",
      "данные без дубликатов, модель K_neigh, f1_score: 0.7098429423955653\n"
     ]
    }
   ],
   "source": [
    "#создание и обучение модели К ближйших соседей\n",
    "kn = Pipeline([('vect', CountVectorizer()),\n",
    "               ('tfidf', TfidfTransformer()),\n",
    "               ('clf', KNeighborsClassifier()),\n",
    "              ])\n",
    "#Обучение и предсказание на полных данных\n",
    "kn_all = kn.fit(X_train, y_train)\n",
    "y_pred_all = kn_all.predict(X_test)\n",
    "\n",
    "#Обучение и предсказание на \"сбалансированных\" данных\n",
    "kn_balance = kn.fit(X_train_balance, y_train_balance)\n",
    "y_pred_balance = kn_balance.predict(X_test_balance)\n",
    "\n",
    "#Обучение и предсказание на данных без дупликатов\n",
    "kn_drop = kn.fit(X_train_drop, y_train_drop)\n",
    "y_pred_drop = kn_drop.predict(X_test_drop)\n",
    "\n",
    "#оценка модели\n",
    "print(\"Полные данные, модель K_neigh, f1_score:\", f1_score(y_test, y_pred_all, average='micro'))\n",
    "print(\"сбалансированные данные, модель K_neigh, f1_score:\", f1_score(y_test_balance, y_pred_balance, average='micro'))\n",
    "print(\"данные без дубликатов, модель K_neigh, f1_score:\", f1_score(y_test_drop, y_pred_drop, average='micro'))"
   ]
  },
  {
   "cell_type": "code",
   "execution_count": 131,
   "metadata": {
    "colab": {
     "base_uri": "https://localhost:8080/"
    },
    "id": "uCZWB6CvpgZW",
    "outputId": "0e291232-9b55-4c4f-fdfa-a5e2fa8964b2"
   },
   "outputs": [
    {
     "name": "stdout",
     "output_type": "stream",
     "text": [
      "Полные данные, модель svm, f1_score: 0.7703121659183237\n",
      "сбалансированные данные, модель svm, f1_score: 0.7047984473643117\n",
      "данные без дубликатов, модель svm, f1_score: 0.7624909485879797\n"
     ]
    }
   ],
   "source": [
    "#создание и обучение линейной модели классификации\n",
    "svm = Pipeline([('vect', CountVectorizer()),\n",
    "               ('clf', SGDClassifier()),])\n",
    "\n",
    "#Обучение и предсказание на полных данных\n",
    "svm_all = svm.fit(X_train, y_train)\n",
    "y_pred_all = svm_all.predict(X_test)\n",
    "\n",
    "#Обучение и предсказание на \"сбалансированных\" данных\n",
    "svm_balance = svm.fit(X_train_balance, y_train_balance)\n",
    "y_pred_balance = svm_balance.predict(X_test_balance)\n",
    "\n",
    "#Обучение и предсказание на данных без дупликатов\n",
    "svm_drop = svm.fit(X_train_drop, y_train_drop)\n",
    "y_pred_drop = svm_drop.predict(X_test_drop)\n",
    "#оценка модели\n",
    "print(\"Полные данные, модель svm, f1_score:\", f1_score(y_test, y_pred_all, average='micro'))\n",
    "print(\"сбалансированные данные, модель svm, f1_score:\", f1_score(y_test_balance, y_pred_balance, average='micro'))\n",
    "print(\"данные без дубликатов, модель svm, f1_score:\", f1_score(y_test_drop, y_pred_drop, average='micro'))"
   ]
  },
  {
   "cell_type": "code",
   "execution_count": null,
   "metadata": {
    "id": "BmEqI0qldmjS"
   },
   "outputs": [],
   "source": []
  },
  {
   "cell_type": "markdown",
   "metadata": {
    "id": "bsn7x7NWxSYM"
   },
   "source": [
    "Предсказание и создание parquet"
   ]
  },
  {
   "cell_type": "code",
   "execution_count": 132,
   "metadata": {
    "id": "27kHUyfmHR4M"
   },
   "outputs": [],
   "source": [
    "#предобработка тестового файла (столбца title)\n",
    "test['new_title'] = test['title'].apply(regular).apply(tokeniz).apply(lematiz2).apply(string)"
   ]
  },
  {
   "cell_type": "code",
   "execution_count": 133,
   "metadata": {
    "id": "j5WHoaVOwgMO"
   },
   "outputs": [],
   "source": [
    "y_pred_final = svm_all.predict(test['new_title'])"
   ]
  },
  {
   "cell_type": "code",
   "execution_count": 134,
   "metadata": {
    "id": "gG38T1U0F40T"
   },
   "outputs": [],
   "source": [
    "test['predicted_category_id'] = y_pred_final"
   ]
  },
  {
   "cell_type": "code",
   "execution_count": 135,
   "metadata": {
    "id": "tm2-B_mvxROq"
   },
   "outputs": [],
   "source": [
    "final = test[['id', 'predicted_category_id']]"
   ]
  },
  {
   "cell_type": "code",
   "execution_count": 137,
   "metadata": {
    "id": "98PUR2y1xPrt"
   },
   "outputs": [],
   "source": [
    "final.to_parquet('result.parquet')"
   ]
  }
 ],
 "metadata": {
  "colab": {
   "collapsed_sections": [],
   "name": "kazan.ipynb",
   "provenance": []
  },
  "kernelspec": {
   "display_name": "Python 3 (ipykernel)",
   "language": "python",
   "name": "python3"
  },
  "language_info": {
   "codemirror_mode": {
    "name": "ipython",
    "version": 3
   },
   "file_extension": ".py",
   "mimetype": "text/x-python",
   "name": "python",
   "nbconvert_exporter": "python",
   "pygments_lexer": "ipython3",
   "version": "3.9.9"
  }
 },
 "nbformat": 4,
 "nbformat_minor": 1
}
